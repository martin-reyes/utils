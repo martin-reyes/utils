{
 "cells": [
  {
   "cell_type": "markdown",
   "id": "premier-milan",
   "metadata": {},
   "source": [
    "# `Title`\n",
    "Project goals:\n"
   ]
  },
  {
   "cell_type": "markdown",
   "id": "going-assembly",
   "metadata": {},
   "source": [
    "## Imports"
   ]
  },
  {
   "cell_type": "code",
   "execution_count": 2,
   "id": "divided-poster",
   "metadata": {},
   "outputs": [],
   "source": [
    "import acquire as a\n",
    "import prepare as p\n",
    "import explore as e\n",
    "import model as m"
   ]
  },
  {
   "cell_type": "code",
   "execution_count": null,
   "id": "46d01a2f",
   "metadata": {},
   "outputs": [],
   "source": [
    "import warnings\n",
    "warnings.filterwarnings(\"ignore\")"
   ]
  },
  {
   "cell_type": "markdown",
   "id": "criminal-glory",
   "metadata": {},
   "source": [
    "## Acquire\n"
   ]
  },
  {
   "cell_type": "code",
   "execution_count": 3,
   "id": "paperback-gather",
   "metadata": {},
   "outputs": [],
   "source": []
  },
  {
   "cell_type": "markdown",
   "id": "impossible-bible",
   "metadata": {},
   "source": [
    "## Prepare\n",
    "\n",
    "Explain steps taking to clean data"
   ]
  },
  {
   "cell_type": "code",
   "execution_count": 4,
   "id": "flexible-irrigation",
   "metadata": {},
   "outputs": [],
   "source": []
  },
  {
   "cell_type": "markdown",
   "id": "ae2e40c4",
   "metadata": {},
   "source": [
    "Notes and visualization on the data (univariate analysis)\n",
    "\n",
    "Categorical Columns:\n",
    "- How many observations fit the category?\n",
    "\n",
    "Numeric Columns:\n",
    "- What are the descriptive stats and distribution of the numeric data for observations?"
   ]
  },
  {
   "cell_type": "markdown",
   "id": "immediate-mirror",
   "metadata": {},
   "source": [
    "## Explore\n"
   ]
  },
  {
   "cell_type": "markdown",
   "id": "functional-sierra",
   "metadata": {},
   "source": [
    "Explore data in search of features that drive `target` \n",
    "\n",
    "Key Insights:\n",
    "- Strong Drivers of `target`:\n",
    "    - `col1`\n",
    "    - `col2`\n",
    "    - `col3`\n",
    "- Weak Drivers of `target`:\n",
    "    - `col4`"
   ]
  },
  {
   "cell_type": "markdown",
   "id": "6a84bb48",
   "metadata": {},
   "source": [
    "Load data. Explore only on the training data if modeling after"
   ]
  },
  {
   "cell_type": "code",
   "execution_count": null,
   "id": "approximate-thong",
   "metadata": {},
   "outputs": [],
   "source": []
  },
  {
   "cell_type": "markdown",
   "id": "013d22f0",
   "metadata": {},
   "source": [
    "### 3. Bivariate  Analysis\n",
    "\n",
    "Categorical Features:\n",
    "- For continuous target, look at target distributions and numerical summaries for each feature group.\n",
    "- For categorical target, look at target rates/proportions for each category."
   ]
  },
  {
   "cell_type": "code",
   "execution_count": null,
   "id": "8b7eb442",
   "metadata": {},
   "outputs": [],
   "source": []
  },
  {
   "cell_type": "markdown",
   "id": "087d346a",
   "metadata": {},
   "source": [
    "Continuous Columns:\n",
    "- For continuous target, look at correlations and patterns in scatter plots.\n",
    "- For categorical target, look at feature distributions and numerical summaries for each target group."
   ]
  },
  {
   "cell_type": "code",
   "execution_count": null,
   "id": "730f9519",
   "metadata": {},
   "outputs": [],
   "source": []
  },
  {
   "cell_type": "markdown",
   "id": "ef812e93",
   "metadata": {},
   "source": [
    "### 4) Key Questions\n",
    "\n",
    "With these quick insights, we can develop key questions:\n",
    "- Q1: How does `col1` relate to `target`?\n",
    "- Q2: Do those who `col3` `target` more than those who don't?\n",
    "\n",
    "### a) Q1: `___`\n",
    "\n",
    "### b) Vizualization\n",
    "`takeaway`"
   ]
  },
  {
   "cell_type": "code",
   "execution_count": null,
   "id": "aebafcbe",
   "metadata": {},
   "outputs": [],
   "source": []
  },
  {
   "cell_type": "markdown",
   "id": "b1b90c2e",
   "metadata": {},
   "source": [
    "### c) Statistical test\n",
    "* Independent (Two-Sample) T-Test (2-sided)\n",
    "* Hypotheses and significance level\n",
    "    * $H_0$: There is no difference in average tenure for churners and non-churners.\n",
    "    * $H_a$: There is a difference in average tenure for churners and non-churners.\n",
    "    * $\\alpha = .05$\n",
    "* verify assumptions\n",
    "    * Independence: Assumption met\n",
    "    * Normality: Assumption met with large sample sizes\n",
    "    * Equal Variances: Check with Levene's test\n",
    "        * Variances are not equal, so we will set `equal_var=False` for the test"
   ]
  },
  {
   "cell_type": "code",
   "execution_count": null,
   "id": "112b23cb",
   "metadata": {},
   "outputs": [],
   "source": []
  },
  {
   "cell_type": "markdown",
   "id": "cd40bda5",
   "metadata": {},
   "source": [
    "* Run test\n",
    "* Interpret the results of the test"
   ]
  },
  {
   "cell_type": "code",
   "execution_count": null,
   "id": "627b379e",
   "metadata": {},
   "outputs": [],
   "source": []
  },
  {
   "cell_type": "markdown",
   "id": "c76ce41f",
   "metadata": {},
   "source": [
    "### d) Insight\n",
    "\n",
    "With a low p value, we can conclude that **churn is dependent on tenure**."
   ]
  },
  {
   "cell_type": "markdown",
   "id": "0456bf91",
   "metadata": {},
   "source": [
    "---\n",
    "### a) Q2: `___`\n",
    "\n",
    "### b) Vizualization\n",
    "`takeaway`"
   ]
  },
  {
   "cell_type": "code",
   "execution_count": null,
   "id": "2cd4caf4",
   "metadata": {},
   "outputs": [],
   "source": []
  },
  {
   "cell_type": "markdown",
   "id": "28a890e0",
   "metadata": {},
   "source": [
    "### c) Statistical test\n",
    "* state hypotheses and siginificance level\n",
    "    * $H_0$: Churn is independent on Internet Service Type.\n",
    "    * $H_a$: Churn is dependent on Internet Service Type.\n",
    "    * $\\alpha = .05$\n",
    "* verify assumptions\n",
    "    * Independence: Assumption met\n",
    "    * Large sample sizes (`𝑛>5`)  for each cell in contigency table):  Assumption met\n",
    "    * Randomly sampled observations: Assumption met\n",
    "* Run test and interpret results"
   ]
  },
  {
   "cell_type": "code",
   "execution_count": null,
   "id": "5379f7fe",
   "metadata": {},
   "outputs": [],
   "source": []
  },
  {
   "cell_type": "markdown",
   "id": "cb6db5a8",
   "metadata": {},
   "source": [
    "### d) Insight:\n",
    "\n",
    "By comparing the observed and expected contingency tables, we can see that the observed values are far from the values we'd expect to see if the data were independent. This, along with a very low p value and high $\\chi^2$ statistic, allows us to conclude that **there is a significant, dependent relationship between `target` and `col`**."
   ]
  },
  {
   "cell_type": "markdown",
   "id": "iraqi-sellers",
   "metadata": {},
   "source": [
    "## Exploration Summary\n",
    "Key Insights:\n",
    "- Strong Drivers of `target`:\n",
    "    - `col1`\n",
    "    - `col2`\n",
    "    - `col3`\n",
    "- Weak Drivers of `target`:\n",
    "    - `col4`\n",
    "\n",
    "note which features will be going into your model\n"
   ]
  },
  {
   "cell_type": "markdown",
   "id": "minus-tulsa",
   "metadata": {},
   "source": [
    "## Modeling: `Regression`\n",
    "\n",
    "* Note the appropriate evaluation metric"
   ]
  },
  {
   "cell_type": "markdown",
   "id": "random-casino",
   "metadata": {},
   "source": [
    "### Baseline \n",
    "* create and interpret baseline model"
   ]
  },
  {
   "cell_type": "code",
   "execution_count": null,
   "id": "ranging-rebecca",
   "metadata": {},
   "outputs": [],
   "source": []
  },
  {
   "cell_type": "markdown",
   "id": "emotional-purchase",
   "metadata": {},
   "source": [
    "### Propose best models"
   ]
  },
  {
   "cell_type": "markdown",
   "id": "regulated-fellowship",
   "metadata": {},
   "source": [
    "### Perform best model on test data\n"
   ]
  },
  {
   "cell_type": "code",
   "execution_count": 10,
   "id": "optical-quilt",
   "metadata": {},
   "outputs": [],
   "source": []
  },
  {
   "cell_type": "markdown",
   "id": "bright-evans",
   "metadata": {},
   "source": [
    "### Modeling Wrap\n",
    "\n",
    "* Model test score compared to the baseline\n",
    "* Model insights"
   ]
  },
  {
   "cell_type": "markdown",
   "id": "tutorial-twelve",
   "metadata": {},
   "source": [
    "## Conclusion\n",
    "\n",
    "### Summary\n",
    "* summarize findings/drivers and answers\n",
    "* state model performance compared to baseline\n",
    "\n",
    "### Recommendations\n",
    "* Recommend stakeholder actions\n",
    "* Recommend models to use\n",
    "\n",
    "### Next Steps\n",
    "With more time, we can:\n",
    "- Do Multivariate analysis and see how a combination or columns relate to churn \n",
    "- Develop a better-performing model by feature engineering, feature scaling, running other ML classifiers, etc.\n",
    "- If we want to take action with any of the recommendations, we can change our performance metric to precision or recall, and predict and target customers this way.\n",
    "- Gather data such as `___, ___, and ___`"
   ]
  },
  {
   "cell_type": "markdown",
   "id": "2f5baa62",
   "metadata": {},
   "source": [
    "Ensure model and explorations summaries are present\n",
    "\n",
    "Ensure code is commented"
   ]
  }
 ],
 "metadata": {
  "kernelspec": {
   "display_name": "Python 3 (ipykernel)",
   "language": "python",
   "name": "python3"
  },
  "language_info": {
   "codemirror_mode": {
    "name": "ipython",
    "version": 3
   },
   "file_extension": ".py",
   "mimetype": "text/x-python",
   "name": "python",
   "nbconvert_exporter": "python",
   "pygments_lexer": "ipython3",
   "version": "3.10.9"
  },
  "varInspector": {
   "cols": {
    "lenName": 16,
    "lenType": 16,
    "lenVar": 40
   },
   "kernels_config": {
    "python": {
     "delete_cmd_postfix": "",
     "delete_cmd_prefix": "del ",
     "library": "var_list.py",
     "varRefreshCmd": "print(var_dic_list())"
    },
    "r": {
     "delete_cmd_postfix": ") ",
     "delete_cmd_prefix": "rm(",
     "library": "var_list.r",
     "varRefreshCmd": "cat(var_dic_list()) "
    }
   },
   "types_to_exclude": [
    "module",
    "function",
    "builtin_function_or_method",
    "instance",
    "_Feature"
   ],
   "window_display": false
  }
 },
 "nbformat": 4,
 "nbformat_minor": 5
}
