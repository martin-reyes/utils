{
 "cells": [
  {
   "cell_type": "code",
   "execution_count": null,
   "id": "5fa969c0",
   "metadata": {},
   "outputs": [],
   "source": []
  },
  {
   "cell_type": "markdown",
   "id": "c6150123",
   "metadata": {},
   "source": [
    "## README\n",
    "\n",
    "# utils\n",
    "\n",
    "The functions in these python files are general tasks commonly run throughout the DS pipeline. \n",
    "\n",
    "Also included in this directory are templates for a final report .ipynb, README.md, and working notebooks for each part of the DS pipeline,\n",
    "\n",
    "To run (if `utils` directory is in the home directory):\n",
    "\n",
    "```\n",
    "import sys\n",
    "import os\n",
    "\n",
    "home_directory_path = os.path.expanduser('~')\n",
    "sys.path.append(home_directory_path +'/utils')\n",
    "```\n",
    "\n",
    "then import the desired python modules."
   ]
  },
  {
   "cell_type": "code",
   "execution_count": null,
   "id": "b5c2ed93",
   "metadata": {},
   "outputs": [],
   "source": []
  }
 ],
 "metadata": {
  "kernelspec": {
   "display_name": "Python 3 (ipykernel)",
   "language": "python",
   "name": "python3"
  },
  "language_info": {
   "codemirror_mode": {
    "name": "ipython",
    "version": 3
   },
   "file_extension": ".py",
   "mimetype": "text/x-python",
   "name": "python",
   "nbconvert_exporter": "python",
   "pygments_lexer": "ipython3",
   "version": "3.10.9"
  },
  "varInspector": {
   "cols": {
    "lenName": 16,
    "lenType": 16,
    "lenVar": 40
   },
   "kernels_config": {
    "python": {
     "delete_cmd_postfix": "",
     "delete_cmd_prefix": "del ",
     "library": "var_list.py",
     "varRefreshCmd": "print(var_dic_list())"
    },
    "r": {
     "delete_cmd_postfix": ") ",
     "delete_cmd_prefix": "rm(",
     "library": "var_list.r",
     "varRefreshCmd": "cat(var_dic_list()) "
    }
   },
   "types_to_exclude": [
    "module",
    "function",
    "builtin_function_or_method",
    "instance",
    "_Feature"
   ],
   "window_display": false
  }
 },
 "nbformat": 4,
 "nbformat_minor": 5
}
